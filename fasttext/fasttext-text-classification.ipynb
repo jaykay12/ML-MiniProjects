{
 "cells": [
  {
   "cell_type": "markdown",
   "metadata": {},
   "source": [
    "## Data Extraction & Analysis"
   ]
  },
  {
   "cell_type": "code",
   "execution_count": null,
   "metadata": {},
   "outputs": [],
   "source": [
    "# https://www.kaggle.com/rmisra/news-category-dataset -> archive.zip\n",
    "# https://dl.fbaipublicfiles.com/fasttext/data/cooking.stackexchange.tar.gz -> cooking.stackexchange.txt\n",
    "\n",
    "!unzip data/archive.zip -d data/\n",
    "!mv data/News_Category_Dataset_v2.json data/news-articles.jsonl"
   ]
  },
  {
   "cell_type": "code",
   "execution_count": 1,
   "metadata": {},
   "outputs": [
    {
     "name": "stdout",
     "output_type": "stream",
     "text": [
      "{\"category\": \"CRIME\", \"headline\": \"There Were 2 Mass Shootings In Texas Last Week, But Only 1 On TV\", \"authors\": \"Melissa Jeltsen\", \"link\": \"https://www.huffingtonpost.com/entry/texas-amanda-painter-mass-shooting_us_5b081ab4e4b0802d69caad89\", \"short_description\": \"She left her husband. He killed their children. Just another day in America.\", \"date\": \"2018-05-26\"}\r",
      "\r\n",
      "{\"category\": \"ENTERTAINMENT\", \"headline\": \"Will Smith Joins Diplo And Nicky Jam For The 2018 World Cup's Official Song\", \"authors\": \"Andy McDonald\", \"link\": \"https://www.huffingtonpost.com/entry/will-smith-joins-diplo-and-nicky-jam-for-the-official-2018-world-cup-song_us_5b09726fe4b0fdb2aa541201\", \"short_description\": \"Of course it has a song.\", \"date\": \"2018-05-26\"}\r",
      "\r\n"
     ]
    }
   ],
   "source": [
    "!head -2 data/news-articles.jsonl"
   ]
  },
  {
   "cell_type": "code",
   "execution_count": 2,
   "metadata": {},
   "outputs": [
    {
     "name": "stdout",
     "output_type": "stream",
     "text": [
      "__label__sauce __label__cheese How much does potato starch affect a cheese sauce recipe?\r\n",
      "__label__food-safety __label__acidity Dangerous pathogens capable of growing in acidic environments\r\n",
      "__label__cast-iron __label__stove How do I cover up the white spots on my cast iron stove?\r\n",
      "__label__restaurant Michelin Three Star Restaurant; but if the chef is not there\r\n",
      "__label__knife-skills __label__dicing Without knife skills, how can I quickly and accurately dice vegetables?\r\n"
     ]
    }
   ],
   "source": [
    "!head -5 data/cooking.stackexchange.txt"
   ]
  },
  {
   "cell_type": "markdown",
   "metadata": {},
   "source": [
    "## Data Preparation & Standardization"
   ]
  },
  {
   "cell_type": "code",
   "execution_count": 3,
   "metadata": {},
   "outputs": [],
   "source": [
    "import json\n",
    "fileReader = open(\"data/news-articles.jsonl\", \"r\")\n",
    "fileWriter = open(\"data/news-articles.txt\", \"w\")\n",
    "for line in fileReader:\n",
    "    news = dict(json.loads(line))\n",
    "    fileWriter.write(\"__label__\"+news[\"category\"].lower()+\" \"+news[\"headline\"].lower()+\"\\n\")"
   ]
  },
  {
   "cell_type": "code",
   "execution_count": 4,
   "metadata": {},
   "outputs": [
    {
     "name": "stdout",
     "output_type": "stream",
     "text": [
      "__label__crime there were 2 mass shootings in texas last week, but only 1 on tv\r\n",
      "__label__entertainment will smith joins diplo and nicky jam for the 2018 world cup's official song\r\n",
      "__label__entertainment hugh grant marries for the first time at age 57\r\n",
      "__label__entertainment jim carrey blasts 'castrato' adam schiff and democrats in new artwork\r\n",
      "__label__entertainment julianna margulies uses donald trump poop bags to pick up after her dog\r\n"
     ]
    }
   ],
   "source": [
    "!head -5 data/news-articles.txt"
   ]
  },
  {
   "cell_type": "markdown",
   "metadata": {},
   "source": [
    "## Splitting dataset into training & testing"
   ]
  },
  {
   "cell_type": "code",
   "execution_count": 5,
   "metadata": {},
   "outputs": [
    {
     "name": "stdout",
     "output_type": "stream",
     "text": [
      "  200832  2189821 15670354 data/news-articles.txt\r\n"
     ]
    }
   ],
   "source": [
    "!wc data/news-articles.txt"
   ]
  },
  {
   "cell_type": "code",
   "execution_count": 6,
   "metadata": {},
   "outputs": [],
   "source": [
    "!head -n 160000 data/news-articles.txt > data/news-articles.train\n",
    "!tail -n 40832 data/news-articles.txt > data/news-articles.valid"
   ]
  },
  {
   "cell_type": "markdown",
   "metadata": {},
   "source": [
    "## Usage FastText basic"
   ]
  },
  {
   "cell_type": "code",
   "execution_count": 7,
   "metadata": {},
   "outputs": [],
   "source": [
    "import fasttext\n",
    "\n",
    "model = fasttext.train_supervised(input=\"data/news-articles.train\")"
   ]
  },
  {
   "cell_type": "code",
   "execution_count": 8,
   "metadata": {},
   "outputs": [],
   "source": [
    "model.save_model(\"model/news-classifier-v1.bin\")"
   ]
  },
  {
   "cell_type": "code",
   "execution_count": 9,
   "metadata": {},
   "outputs": [
    {
     "name": "stderr",
     "output_type": "stream",
     "text": [
      "Warning : `load_model` does not return WordVectorModel or SupervisedModel any more, but a `FastText` object which is very similar.\n"
     ]
    }
   ],
   "source": [
    "modelLoaded = fasttext.load_model(\"model/news-classifier-v1.bin\")"
   ]
  },
  {
   "cell_type": "code",
   "execution_count": 10,
   "metadata": {},
   "outputs": [
    {
     "data": {
      "text/plain": [
       "(('__label__sports',), array([0.98920584]))"
      ]
     },
     "execution_count": 10,
     "metadata": {},
     "output_type": "execute_result"
    }
   ],
   "source": [
    "model.predict(\"Roger Federer wins US Grand Slam Men's final\")"
   ]
  },
  {
   "cell_type": "code",
   "execution_count": 11,
   "metadata": {},
   "outputs": [
    {
     "data": {
      "text/plain": [
       "(('__label__politics',), array([0.87190288]))"
      ]
     },
     "execution_count": 11,
     "metadata": {},
     "output_type": "execute_result"
    }
   ],
   "source": [
    "model.predict(\"North Korea threatens Japan with back to back 4 nuclear tests\")"
   ]
  },
  {
   "cell_type": "code",
   "execution_count": 12,
   "metadata": {},
   "outputs": [
    {
     "data": {
      "text/plain": [
       "(('__label__entertainment',), array([0.94130796]))"
      ]
     },
     "execution_count": 12,
     "metadata": {},
     "output_type": "execute_result"
    }
   ],
   "source": [
    "model.predict(\"Avengers becomes the highest grossing film\")"
   ]
  },
  {
   "cell_type": "code",
   "execution_count": 13,
   "metadata": {},
   "outputs": [
    {
     "data": {
      "text/plain": [
       "(40832, 0.7142437304075235, 0.7142437304075235)"
      ]
     },
     "execution_count": 13,
     "metadata": {},
     "output_type": "execute_result"
    }
   ],
   "source": [
    "model.test(\"data/news-articles.valid\")"
   ]
  },
  {
   "cell_type": "code",
   "execution_count": 14,
   "metadata": {},
   "outputs": [
    {
     "data": {
      "text/plain": [
       "(40832, 0.1792662617554859, 0.8963313087774295)"
      ]
     },
     "execution_count": 14,
     "metadata": {},
     "output_type": "execute_result"
    }
   ],
   "source": [
    "model.test(\"data/news-articles.valid\", k=5)"
   ]
  },
  {
   "cell_type": "code",
   "execution_count": 15,
   "metadata": {},
   "outputs": [
    {
     "data": {
      "text/plain": [
       "(('__label__politics',\n",
       "  '__label__worldpost',\n",
       "  '__label__business',\n",
       "  '__label__green',\n",
       "  '__label__media'),\n",
       " array([0.9599784 , 0.02671684, 0.00617307, 0.00214208, 0.00102552]))"
      ]
     },
     "execution_count": 15,
     "metadata": {},
     "output_type": "execute_result"
    }
   ],
   "source": [
    "model.predict(\"finance minister proposed union budget for 2020-21\", k=5)"
   ]
  },
  {
   "cell_type": "markdown",
   "metadata": {},
   "source": [
    "# Tweaking parameters in FastText"
   ]
  },
  {
   "cell_type": "code",
   "execution_count": 16,
   "metadata": {},
   "outputs": [
    {
     "data": {
      "text/plain": [
       "(40832, 0.6333512931034483, 0.6333512931034483)"
      ]
     },
     "execution_count": 16,
     "metadata": {},
     "output_type": "execute_result"
    }
   ],
   "source": [
    "modelv2 = fasttext.train_supervised(input=\"data/news-articles.train\", epoch=25)\n",
    "modelv2.test(\"data/news-articles.valid\")"
   ]
  },
  {
   "cell_type": "code",
   "execution_count": 17,
   "metadata": {},
   "outputs": [
    {
     "data": {
      "text/plain": [
       "(40832, 0.6725852272727273, 0.6725852272727273)"
      ]
     },
     "execution_count": 17,
     "metadata": {},
     "output_type": "execute_result"
    }
   ],
   "source": [
    "modelv3 = fasttext.train_supervised(input=\"data/news-articles.train\", lr=1.0)\n",
    "modelv3.test(\"data/news-articles.valid\")"
   ]
  },
  {
   "cell_type": "code",
   "execution_count": 18,
   "metadata": {},
   "outputs": [
    {
     "data": {
      "text/plain": [
       "(40832, 0.5824843260188087, 0.5824843260188087)"
      ]
     },
     "execution_count": 18,
     "metadata": {},
     "output_type": "execute_result"
    }
   ],
   "source": [
    "modelv4 = fasttext.train_supervised(input=\"data/news-articles.train\", epoch=25, lr=1.0)\n",
    "modelv4.test(\"data/news-articles.valid\")"
   ]
  },
  {
   "cell_type": "code",
   "execution_count": 19,
   "metadata": {},
   "outputs": [
    {
     "data": {
      "text/plain": [
       "(('__label__worldpost',\n",
       "  '__label__sports',\n",
       "  '__label__travel',\n",
       "  '__label__politics',\n",
       "  '__label__taste'),\n",
       " array([0.44614202, 0.41810945, 0.06781565, 0.04007414, 0.00905261]))"
      ]
     },
     "execution_count": 19,
     "metadata": {},
     "output_type": "execute_result"
    }
   ],
   "source": [
    "modelv2.predict(\"india won by 42 runs in the final of ICC cricket world cup\", k=5)"
   ]
  },
  {
   "cell_type": "code",
   "execution_count": 20,
   "metadata": {},
   "outputs": [
    {
     "data": {
      "text/plain": [
       "(('__label__sports',\n",
       "  '__label__travel',\n",
       "  '__label__worldpost',\n",
       "  '__label__impact',\n",
       "  '__label__taste'),\n",
       " array([0.73859113, 0.13595396, 0.05320239, 0.02036113, 0.01442484]))"
      ]
     },
     "execution_count": 20,
     "metadata": {},
     "output_type": "execute_result"
    }
   ],
   "source": [
    "modelv3.predict(\"india won by 42 runs in the final of ICC cricket world cup\", k=5)"
   ]
  },
  {
   "cell_type": "code",
   "execution_count": 21,
   "metadata": {},
   "outputs": [
    {
     "data": {
      "text/plain": [
       "(('__label__politics',\n",
       "  '__label__healthy',\n",
       "  '__label__style',\n",
       "  '__label__money',\n",
       "  '__label__culture'),\n",
       " array([1.00001001e+00, 1.00000034e-05, 1.00000034e-05, 1.00000034e-05,\n",
       "        1.00000034e-05]))"
      ]
     },
     "execution_count": 21,
     "metadata": {},
     "output_type": "execute_result"
    }
   ],
   "source": [
    "modelv4.predict(\"narendra modi aquitted for gujarat riots by the court\", k=5)"
   ]
  },
  {
   "cell_type": "markdown",
   "metadata": {},
   "source": [
    "## wordNgrams usage"
   ]
  },
  {
   "cell_type": "code",
   "execution_count": 22,
   "metadata": {},
   "outputs": [
    {
     "data": {
      "text/plain": [
       "(40832, 0.6777282523510971, 0.6777282523510971)"
      ]
     },
     "execution_count": 22,
     "metadata": {},
     "output_type": "execute_result"
    }
   ],
   "source": [
    "modelv5 = fasttext.train_supervised(input=\"data/news-articles.train\", epoch=25, wordNgrams=2)\n",
    "modelv5.test(\"data/news-articles.valid\")"
   ]
  },
  {
   "cell_type": "code",
   "execution_count": 23,
   "metadata": {},
   "outputs": [
    {
     "data": {
      "text/plain": [
       "(40832, 0.670846394984326, 0.670846394984326)"
      ]
     },
     "execution_count": 23,
     "metadata": {},
     "output_type": "execute_result"
    }
   ],
   "source": [
    "modelv6 = fasttext.train_supervised(input=\"data/news-articles.train\", epoch=25, lr=1.0, wordNgrams=2)\n",
    "modelv6.test(\"data/news-articles.valid\")"
   ]
  },
  {
   "cell_type": "code",
   "execution_count": 24,
   "metadata": {},
   "outputs": [
    {
     "data": {
      "text/plain": [
       "(40832, 0.6840958072100314, 0.6840958072100314)"
      ]
     },
     "execution_count": 24,
     "metadata": {},
     "output_type": "execute_result"
    }
   ],
   "source": [
    "modelv7 = fasttext.train_supervised(input=\"data/news-articles.train\", lr=1.0, wordNgrams=2)\n",
    "modelv7.test(\"data/news-articles.valid\")"
   ]
  },
  {
   "cell_type": "code",
   "execution_count": 25,
   "metadata": {},
   "outputs": [
    {
     "name": "stdout",
     "output_type": "stream",
     "text": [
      "(('__label__worldpost', '__label__crime'), array([0.32675183, 0.29385334]))\n",
      "(('__label__politics', '__label__worldpost'), array([0.52305132, 0.39108673]))\n",
      "(('__label__crime', '__label__politics', '__label__worldpost'), array([0.42876673, 0.31186277, 0.14133641]))\n"
     ]
    }
   ],
   "source": [
    "news = \"narendra modi aquitted for gujarat riots by the court\"\n",
    "print(modelv5.predict(news, k=-1, threshold=0.1))\n",
    "print(modelv6.predict(news, k=-1, threshold=0.1))\n",
    "print(modelv7.predict(news, k=-1, threshold=0.1))"
   ]
  },
  {
   "cell_type": "markdown",
   "metadata": {},
   "source": [
    "## Tricks for production scalability & multi label classification"
   ]
  },
  {
   "cell_type": "code",
   "execution_count": 26,
   "metadata": {},
   "outputs": [
    {
     "data": {
      "text/plain": [
       "(40832, 0.6174568965517241, 0.6174568965517241)"
      ]
     },
     "execution_count": 26,
     "metadata": {},
     "output_type": "execute_result"
    }
   ],
   "source": [
    "modelv8 = fasttext.train_supervised(input=\"data/news-articles.train\", lr=1.0, epoch=25, wordNgrams=2, bucket=200000, dim=50, loss='hs')\n",
    "modelv8.test(\"data/news-articles.valid\")"
   ]
  },
  {
   "cell_type": "code",
   "execution_count": 27,
   "metadata": {},
   "outputs": [
    {
     "data": {
      "text/plain": [
       "(40832, 0.655907131661442, 0.655907131661442)"
      ]
     },
     "execution_count": 27,
     "metadata": {},
     "output_type": "execute_result"
    }
   ],
   "source": [
    "modelv9 = fasttext.train_supervised(input=\"data/news-articles.train\", lr=1.0, epoch=25, wordNgrams=2, bucket=200000, dim=50, loss='ova')\n",
    "modelv9.test(\"data/news-articles.valid\")"
   ]
  },
  {
   "cell_type": "code",
   "execution_count": 28,
   "metadata": {},
   "outputs": [
    {
     "name": "stdout",
     "output_type": "stream",
     "text": [
      "(('__label__entertainment',), array([0.99964833]))\n",
      "(('__label__entertainment',), array([0.95397609]))\n"
     ]
    }
   ],
   "source": [
    "news = \"justin beiber and selena gomez splits after 4 years of relationship\"\n",
    "print(modelv8.predict(news, k=-1, threshold=0.1))\n",
    "print(modelv9.predict(news, k=-1, threshold=0.1))"
   ]
  },
  {
   "cell_type": "markdown",
   "metadata": {},
   "source": [
    "## Using Autotuning feature for hyperparameters"
   ]
  },
  {
   "cell_type": "code",
   "execution_count": 29,
   "metadata": {},
   "outputs": [
    {
     "data": {
      "text/plain": [
       "(40832, 0.70579447492163, 0.70579447492163)"
      ]
     },
     "execution_count": 29,
     "metadata": {},
     "output_type": "execute_result"
    }
   ],
   "source": [
    "modelv10 = fasttext.train_supervised(input='data/news-articles.train', autotuneValidationFile='data/news-articles.valid')\n",
    "modelv10.test(\"data/news-articles.valid\")"
   ]
  },
  {
   "cell_type": "code",
   "execution_count": 30,
   "metadata": {},
   "outputs": [
    {
     "data": {
      "text/plain": [
       "(40832, 0.6934022335423198, 0.6934022335423198)"
      ]
     },
     "execution_count": 30,
     "metadata": {},
     "output_type": "execute_result"
    }
   ],
   "source": [
    "modelv11 = fasttext.train_supervised(input='data/news-articles.train', autotuneValidationFile='data/news-articles.valid', autotuneDuration=600)\n",
    "modelv11.test(\"data/news-articles.valid\")"
   ]
  },
  {
   "cell_type": "code",
   "execution_count": 31,
   "metadata": {},
   "outputs": [
    {
     "data": {
      "text/plain": [
       "(40832, 0.6831406739811913, 0.6831406739811913)"
      ]
     },
     "execution_count": 31,
     "metadata": {},
     "output_type": "execute_result"
    }
   ],
   "source": [
    "modelv12 = fasttext.train_supervised(input='data/news-articles.train', autotuneValidationFile='data/news-articles.valid', autotuneModelSize=\"2M\")\n",
    "modelv12.test(\"data/news-articles.valid\")"
   ]
  }
 ],
 "metadata": {
  "kernelspec": {
   "display_name": "Python 3",
   "language": "python",
   "name": "python3"
  },
  "language_info": {
   "codemirror_mode": {
    "name": "ipython",
    "version": 3
   },
   "file_extension": ".py",
   "mimetype": "text/x-python",
   "name": "python",
   "nbconvert_exporter": "python",
   "pygments_lexer": "ipython3",
   "version": "3.7.3"
  }
 },
 "nbformat": 4,
 "nbformat_minor": 4
}
