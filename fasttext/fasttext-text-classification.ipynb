{
 "cells": [
  {
   "cell_type": "markdown",
   "metadata": {},
   "source": [
    "## Data Extraction & Analysis"
   ]
  },
  {
   "cell_type": "code",
   "execution_count": 5,
   "metadata": {},
   "outputs": [
    {
     "name": "stdout",
     "output_type": "stream",
     "text": [
      "Archive:  data/archive.zip\n",
      "  inflating: data/News_Category_Dataset_v2.json  \n"
     ]
    }
   ],
   "source": [
    "# https://www.kaggle.com/rmisra/news-category-dataset -> archive.zip\n",
    "# https://dl.fbaipublicfiles.com/fasttext/data/cooking.stackexchange.tar.gz -> cooking.stackexchange.txt\n",
    "\n",
    "!unzip data/archive.zip -d data/\n",
    "!mv data/News_Category_Dataset_v2.json data/news-articles.jsonl"
   ]
  },
  {
   "cell_type": "code",
   "execution_count": 17,
   "metadata": {},
   "outputs": [
    {
     "name": "stdout",
     "output_type": "stream",
     "text": [
      "{\"category\": \"CRIME\", \"headline\": \"There Were 2 Mass Shootings In Texas Last Week, But Only 1 On TV\", \"authors\": \"Melissa Jeltsen\", \"link\": \"https://www.huffingtonpost.com/entry/texas-amanda-painter-mass-shooting_us_5b081ab4e4b0802d69caad89\", \"short_description\": \"She left her husband. He killed their children. Just another day in America.\", \"date\": \"2018-05-26\"}\r",
      "\r\n",
      "{\"category\": \"ENTERTAINMENT\", \"headline\": \"Will Smith Joins Diplo And Nicky Jam For The 2018 World Cup's Official Song\", \"authors\": \"Andy McDonald\", \"link\": \"https://www.huffingtonpost.com/entry/will-smith-joins-diplo-and-nicky-jam-for-the-official-2018-world-cup-song_us_5b09726fe4b0fdb2aa541201\", \"short_description\": \"Of course it has a song.\", \"date\": \"2018-05-26\"}\r",
      "\r\n"
     ]
    }
   ],
   "source": [
    "!head -2 data/news-articles.jsonl"
   ]
  },
  {
   "cell_type": "code",
   "execution_count": 12,
   "metadata": {},
   "outputs": [
    {
     "name": "stdout",
     "output_type": "stream",
     "text": [
      "__label__sauce __label__cheese How much does potato starch affect a cheese sauce recipe?\r\n",
      "__label__food-safety __label__acidity Dangerous pathogens capable of growing in acidic environments\r\n",
      "__label__cast-iron __label__stove How do I cover up the white spots on my cast iron stove?\r\n",
      "__label__restaurant Michelin Three Star Restaurant; but if the chef is not there\r\n",
      "__label__knife-skills __label__dicing Without knife skills, how can I quickly and accurately dice vegetables?\r\n"
     ]
    }
   ],
   "source": [
    "!head -5 data/cooking.stackexchange.txt"
   ]
  },
  {
   "cell_type": "markdown",
   "metadata": {},
   "source": [
    "## Data Preparation & Standardization"
   ]
  },
  {
   "cell_type": "code",
   "execution_count": 28,
   "metadata": {},
   "outputs": [],
   "source": [
    "import json\n",
    "fileReader = open(\"data/news-articles.jsonl\", \"r\")\n",
    "fileWriter = open(\"data/news-articles.txt\", \"w\")\n",
    "for line in fileReader:\n",
    "    news = dict(json.loads(line))\n",
    "    fileWriter.write(\"__label__\"+news[\"category\"].lower()+\" \"+news[\"headline\"].lower()+\"\\n\")"
   ]
  },
  {
   "cell_type": "code",
   "execution_count": 30,
   "metadata": {},
   "outputs": [
    {
     "name": "stdout",
     "output_type": "stream",
     "text": [
      "__label__crime there were 2 mass shootings in texas last week, but only 1 on tv\r\n",
      "__label__entertainment will smith joins diplo and nicky jam for the 2018 world cup's official song\r\n",
      "__label__entertainment hugh grant marries for the first time at age 57\r\n",
      "__label__entertainment jim carrey blasts 'castrato' adam schiff and democrats in new artwork\r\n",
      "__label__entertainment julianna margulies uses donald trump poop bags to pick up after her dog\r\n"
     ]
    }
   ],
   "source": [
    "!head -5 data/news-articles.txt"
   ]
  },
  {
   "cell_type": "markdown",
   "metadata": {},
   "source": [
    "## Splitting dataset into training & testing"
   ]
  },
  {
   "cell_type": "code",
   "execution_count": 32,
   "metadata": {},
   "outputs": [
    {
     "name": "stdout",
     "output_type": "stream",
     "text": [
      "  200832  2189821 15670354 data/news-articles.txt\r\n"
     ]
    }
   ],
   "source": [
    "!wc data/news-articles.txt"
   ]
  },
  {
   "cell_type": "code",
   "execution_count": 34,
   "metadata": {},
   "outputs": [],
   "source": [
    "!head -n 160000 data/news-articles.txt > data/news-articles.train\n",
    "!tail -n 40832 data/news-articles.txt > data/news-articles.valid"
   ]
  },
  {
   "cell_type": "markdown",
   "metadata": {},
   "source": [
    "## Usage FastText basic"
   ]
  },
  {
   "cell_type": "code",
   "execution_count": 35,
   "metadata": {},
   "outputs": [],
   "source": [
    "import fasttext\n",
    "\n",
    "model = fasttext.train_supervised(input=\"data/news-articles.train\")"
   ]
  },
  {
   "cell_type": "code",
   "execution_count": 36,
   "metadata": {},
   "outputs": [],
   "source": [
    "model.save_model(\"model/news-classifier-v1.bin\")"
   ]
  },
  {
   "cell_type": "code",
   "execution_count": 39,
   "metadata": {},
   "outputs": [
    {
     "name": "stderr",
     "output_type": "stream",
     "text": [
      "Warning : `load_model` does not return WordVectorModel or SupervisedModel any more, but a `FastText` object which is very similar.\n"
     ]
    }
   ],
   "source": [
    "modelLoaded = fasttext.load_model(\"model/news-classifier-v1.bin\")"
   ]
  },
  {
   "cell_type": "code",
   "execution_count": 40,
   "metadata": {},
   "outputs": [
    {
     "data": {
      "text/plain": [
       "(('__label__sports',), array([0.91453463]))"
      ]
     },
     "execution_count": 40,
     "metadata": {},
     "output_type": "execute_result"
    }
   ],
   "source": [
    "model.predict(\"Roger Federer wins US Grand Slam Men's final\")"
   ]
  },
  {
   "cell_type": "code",
   "execution_count": 41,
   "metadata": {},
   "outputs": [
    {
     "data": {
      "text/plain": [
       "(('__label__politics',), array([0.88016534]))"
      ]
     },
     "execution_count": 41,
     "metadata": {},
     "output_type": "execute_result"
    }
   ],
   "source": [
    "model.predict(\"North Korea threatens Japan with back to back 4 nuclear tests\")"
   ]
  },
  {
   "cell_type": "code",
   "execution_count": 42,
   "metadata": {},
   "outputs": [
    {
     "data": {
      "text/plain": [
       "(('__label__entertainment',), array([0.87965882]))"
      ]
     },
     "execution_count": 42,
     "metadata": {},
     "output_type": "execute_result"
    }
   ],
   "source": [
    "model.predict(\"Avengers becomes the highest grossing film\")"
   ]
  },
  {
   "cell_type": "code",
   "execution_count": 44,
   "metadata": {},
   "outputs": [
    {
     "data": {
      "text/plain": [
       "(40832, 0.5363685344827587, 0.5363685344827587)"
      ]
     },
     "execution_count": 44,
     "metadata": {},
     "output_type": "execute_result"
    }
   ],
   "source": [
    "model.test(\"data/news-articles.valid\")"
   ]
  },
  {
   "cell_type": "code",
   "execution_count": 50,
   "metadata": {},
   "outputs": [
    {
     "data": {
      "text/plain": [
       "(40832, 0.1458170062695925, 0.7290850313479624)"
      ]
     },
     "execution_count": 50,
     "metadata": {},
     "output_type": "execute_result"
    }
   ],
   "source": [
    "model.test(\"data/news-articles.valid\", k=5)"
   ]
  },
  {
   "cell_type": "code",
   "execution_count": 48,
   "metadata": {},
   "outputs": [
    {
     "data": {
      "text/plain": [
       "(('__label__politics',\n",
       "  '__label__worldpost',\n",
       "  '__label__impact',\n",
       "  '__label__business',\n",
       "  '__label__religion'),\n",
       " array([0.41946396, 0.15596035, 0.13890333, 0.09830396, 0.02962857]))"
      ]
     },
     "execution_count": 48,
     "metadata": {},
     "output_type": "execute_result"
    }
   ],
   "source": [
    "model.predict(\"Britain exit from the European Union confirmed\", k=5)"
   ]
  },
  {
   "cell_type": "markdown",
   "metadata": {},
   "source": [
    "# Tweaking parameters in FastText"
   ]
  },
  {
   "cell_type": "code",
   "execution_count": 71,
   "metadata": {},
   "outputs": [
    {
     "data": {
      "text/plain": [
       "(('__label__sports',\n",
       "  '__label__worldpost',\n",
       "  '__label__travel',\n",
       "  '__label__religion',\n",
       "  '__label__media'),\n",
       " array([0.57772529, 0.15812632, 0.05788837, 0.02945946, 0.02899473]))"
      ]
     },
     "execution_count": 71,
     "metadata": {},
     "output_type": "execute_result"
    }
   ],
   "source": [
    "model.predict(\"india won by 42 runs in the final of ICC cricket world cup\", k=5)"
   ]
  },
  {
   "cell_type": "code",
   "execution_count": 57,
   "metadata": {},
   "outputs": [],
   "source": [
    "modelv2 = fasttext.train_supervised(input=\"data/news-articles.train\", epoch=25)"
   ]
  },
  {
   "cell_type": "code",
   "execution_count": 58,
   "metadata": {},
   "outputs": [
    {
     "data": {
      "text/plain": [
       "(40832, 0.617701802507837, 0.617701802507837)"
      ]
     },
     "execution_count": 58,
     "metadata": {},
     "output_type": "execute_result"
    }
   ],
   "source": [
    "modelv2.test(\"data/news-articles.valid\")"
   ]
  },
  {
   "cell_type": "code",
   "execution_count": 70,
   "metadata": {},
   "outputs": [
    {
     "data": {
      "text/plain": [
       "(('__label__sports',\n",
       "  '__label__worldpost',\n",
       "  '__label__travel',\n",
       "  '__label__politics',\n",
       "  '__label__impact'),\n",
       " array([0.72516674, 0.16883804, 0.05571109, 0.03433479, 0.00498041]))"
      ]
     },
     "execution_count": 70,
     "metadata": {},
     "output_type": "execute_result"
    }
   ],
   "source": [
    "modelv2.predict(\"india won by 42 runs in the final of ICC cricket world cup\", k=5)"
   ]
  },
  {
   "cell_type": "code",
   "execution_count": 72,
   "metadata": {},
   "outputs": [],
   "source": [
    "modelv3 = fasttext.train_supervised(input=\"data/news-articles.train\", lr=1.0)"
   ]
  },
  {
   "cell_type": "code",
   "execution_count": 73,
   "metadata": {},
   "outputs": [
    {
     "data": {
      "text/plain": [
       "(40832, 0.698226880877743, 0.698226880877743)"
      ]
     },
     "execution_count": 73,
     "metadata": {},
     "output_type": "execute_result"
    }
   ],
   "source": [
    "modelv3.test(\"data/news-articles.valid\")"
   ]
  },
  {
   "cell_type": "code",
   "execution_count": 74,
   "metadata": {},
   "outputs": [
    {
     "data": {
      "text/plain": [
       "(('__label__sports',\n",
       "  '__label__worldpost',\n",
       "  '__label__religion',\n",
       "  '__label__impact',\n",
       "  '__label__taste'),\n",
       " array([0.64999002, 0.09997158, 0.06355541, 0.04865587, 0.04250089]))"
      ]
     },
     "execution_count": 74,
     "metadata": {},
     "output_type": "execute_result"
    }
   ],
   "source": [
    "modelv3.predict(\"india won by 42 runs in the final of ICC cricket world cup\", k=5)"
   ]
  },
  {
   "cell_type": "code",
   "execution_count": 75,
   "metadata": {},
   "outputs": [],
   "source": [
    "modelv4 = fasttext.train_supervised(input=\"data/news-articles.train\", epoch=25, lr=1.0)"
   ]
  },
  {
   "cell_type": "code",
   "execution_count": 76,
   "metadata": {},
   "outputs": [
    {
     "data": {
      "text/plain": [
       "(40832, 0.5116085423197492, 0.5116085423197492)"
      ]
     },
     "execution_count": 76,
     "metadata": {},
     "output_type": "execute_result"
    }
   ],
   "source": [
    "modelv4.test(\"data/news-articles.valid\")"
   ]
  },
  {
   "cell_type": "code",
   "execution_count": 91,
   "metadata": {},
   "outputs": [
    {
     "data": {
      "text/plain": [
       "(('__label__politics',\n",
       "  '__label__healthy',\n",
       "  '__label__style',\n",
       "  '__label__money',\n",
       "  '__label__culture'),\n",
       " array([1.00001001e+00, 1.00000034e-05, 1.00000034e-05, 1.00000034e-05,\n",
       "        1.00000034e-05]))"
      ]
     },
     "execution_count": 91,
     "metadata": {},
     "output_type": "execute_result"
    }
   ],
   "source": [
    "modelv4.predict(\"narendra modi aquitted for gujarat riots by the court\", k=5)"
   ]
  },
  {
   "cell_type": "code",
   "execution_count": 92,
   "metadata": {},
   "outputs": [],
   "source": [
    "modelv5 = fasttext.train_supervised(input=\"data/news-articles.train\", epoch=25, wordNgrams=2)"
   ]
  },
  {
   "cell_type": "code",
   "execution_count": 93,
   "metadata": {},
   "outputs": [
    {
     "data": {
      "text/plain": [
       "(40832, 0.694283894984326, 0.694283894984326)"
      ]
     },
     "execution_count": 93,
     "metadata": {},
     "output_type": "execute_result"
    }
   ],
   "source": [
    "modelv5.test(\"data/news-articles.valid\")"
   ]
  },
  {
   "cell_type": "code",
   "execution_count": 94,
   "metadata": {},
   "outputs": [],
   "source": [
    "modelv6 = fasttext.train_supervised(input=\"data/news-articles.train\", epoch=25, lr=1.0, wordNgrams=2)"
   ]
  },
  {
   "cell_type": "code",
   "execution_count": 95,
   "metadata": {},
   "outputs": [
    {
     "data": {
      "text/plain": [
       "(40832, 0.6719974529780565, 0.6719974529780565)"
      ]
     },
     "execution_count": 95,
     "metadata": {},
     "output_type": "execute_result"
    }
   ],
   "source": [
    "modelv6.test(\"data/news-articles.valid\")"
   ]
  },
  {
   "cell_type": "code",
   "execution_count": 96,
   "metadata": {},
   "outputs": [],
   "source": [
    "modelv7 = fasttext.train_supervised(input=\"data/news-articles.train\", lr=1.0, wordNgrams=2)"
   ]
  },
  {
   "cell_type": "code",
   "execution_count": 97,
   "metadata": {},
   "outputs": [
    {
     "data": {
      "text/plain": [
       "(40832, 0.6640380094043887, 0.6640380094043887)"
      ]
     },
     "execution_count": 97,
     "metadata": {},
     "output_type": "execute_result"
    }
   ],
   "source": [
    "modelv7.test(\"data/news-articles.valid\")"
   ]
  },
  {
   "cell_type": "code",
   "execution_count": 104,
   "metadata": {},
   "outputs": [
    {
     "name": "stdout",
     "output_type": "stream",
     "text": [
      "(('__label__worldpost', '__label__crime', '__label__politics'), array([0.30460522, 0.25598988, 0.14045343]))\n",
      "(('__label__politics', '__label__crime', '__label__worldpost'), array([0.55176157, 0.24307342, 0.18037586]))\n",
      "(('__label__politics', '__label__worldpost'), array([0.6828118 , 0.20768003]))\n"
     ]
    }
   ],
   "source": [
    "news = \"narendra modi aquitted for gujarat riots by the court\"\n",
    "print(modelv5.predict(news, k=-1, threshold=0.1))\n",
    "print(modelv6.predict(news, k=-1, threshold=0.1))\n",
    "print(modelv7.predict(news, k=-1, threshold=0.1))"
   ]
  },
  {
   "cell_type": "markdown",
   "metadata": {},
   "source": [
    "### Tricks for production scalability"
   ]
  },
  {
   "cell_type": "code",
   "execution_count": 105,
   "metadata": {},
   "outputs": [],
   "source": [
    "modelv8 = fasttext.train_supervised(input=\"data/news-articles.train\", lr=1.0, epoch=25, wordNgrams=2, bucket=200000, dim=50, loss='hs')"
   ]
  },
  {
   "cell_type": "code",
   "execution_count": 106,
   "metadata": {},
   "outputs": [
    {
     "data": {
      "text/plain": [
       "(40832, 0.6167221786833855, 0.6167221786833855)"
      ]
     },
     "execution_count": 106,
     "metadata": {},
     "output_type": "execute_result"
    }
   ],
   "source": [
    "modelv8.test(\"data/news-articles.valid\")"
   ]
  },
  {
   "cell_type": "code",
   "execution_count": 107,
   "metadata": {},
   "outputs": [],
   "source": [
    "modelv9 = fasttext.train_supervised(input=\"data/news-articles.train\", lr=1.0, epoch=25, wordNgrams=2, bucket=200000, dim=50, loss='ova')"
   ]
  },
  {
   "cell_type": "code",
   "execution_count": 108,
   "metadata": {},
   "outputs": [
    {
     "data": {
      "text/plain": [
       "(40832, 0.6457435344827587, 0.6457435344827587)"
      ]
     },
     "execution_count": 108,
     "metadata": {},
     "output_type": "execute_result"
    }
   ],
   "source": [
    "modelv9.test(\"data/news-articles.valid\")"
   ]
  },
  {
   "cell_type": "code",
   "execution_count": 109,
   "metadata": {},
   "outputs": [
    {
     "name": "stdout",
     "output_type": "stream",
     "text": [
      "(('__label__entertainment',), array([1.00003827]))\n",
      "(('__label__entertainment',), array([0.99663341]))\n"
     ]
    }
   ],
   "source": [
    "news = \"justin beiber and selena gomez splits after 4 years of relationship\"\n",
    "print(modelv8.predict(news, k=-1, threshold=0.1))\n",
    "print(modelv9.predict(news, k=-1, threshold=0.1))"
   ]
  },
  {
   "cell_type": "code",
   "execution_count": null,
   "metadata": {},
   "outputs": [],
   "source": []
  }
 ],
 "metadata": {
  "kernelspec": {
   "display_name": "Python 3",
   "language": "python",
   "name": "python3"
  },
  "language_info": {
   "codemirror_mode": {
    "name": "ipython",
    "version": 3
   },
   "file_extension": ".py",
   "mimetype": "text/x-python",
   "name": "python",
   "nbconvert_exporter": "python",
   "pygments_lexer": "ipython3",
   "version": "3.7.3"
  }
 },
 "nbformat": 4,
 "nbformat_minor": 4
}
